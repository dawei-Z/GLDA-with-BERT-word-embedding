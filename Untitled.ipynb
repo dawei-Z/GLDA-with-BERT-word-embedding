{
 "cells": [
  {
   "cell_type": "code",
   "execution_count": 4,
   "metadata": {},
   "outputs": [],
   "source": [
    "import pandas as pd"
   ]
  },
  {
   "cell_type": "code",
   "execution_count": 6,
   "metadata": {},
   "outputs": [
    {
     "data": {
      "text/html": [
       "<div>\n",
       "<style scoped>\n",
       "    .dataframe tbody tr th:only-of-type {\n",
       "        vertical-align: middle;\n",
       "    }\n",
       "\n",
       "    .dataframe tbody tr th {\n",
       "        vertical-align: top;\n",
       "    }\n",
       "\n",
       "    .dataframe thead th {\n",
       "        text-align: right;\n",
       "    }\n",
       "</style>\n",
       "<table border=\"1\" class=\"dataframe\">\n",
       "  <thead>\n",
       "    <tr style=\"text-align: right;\">\n",
       "      <th></th>\n",
       "      <th>Title</th>\n",
       "      <th>Comments</th>\n",
       "    </tr>\n",
       "  </thead>\n",
       "  <tbody>\n",
       "    <tr>\n",
       "      <th>0</th>\n",
       "      <td>Probably the wrong sub, but I'll try to get so...</td>\n",
       "      <td>How long until ads start showing up on your s...</td>\n",
       "    </tr>\n",
       "    <tr>\n",
       "      <th>1</th>\n",
       "      <td>Probably the wrong sub, but I'll try to get so...</td>\n",
       "      <td>Imagine the Razer toaster's terms or conditions 😅</td>\n",
       "    </tr>\n",
       "    <tr>\n",
       "      <th>2</th>\n",
       "      <td>Probably the wrong sub, but I'll try to get so...</td>\n",
       "      <td>Have your upvote and get out of here</td>\n",
       "    </tr>\n",
       "    <tr>\n",
       "      <th>3</th>\n",
       "      <td>Probably the wrong sub, but I'll try to get so...</td>\n",
       "      <td>This exactly the right sub. The IoT is everywh...</td>\n",
       "    </tr>\n",
       "    <tr>\n",
       "      <th>4</th>\n",
       "      <td>Probably the wrong sub, but I'll try to get so...</td>\n",
       "      <td>That def needs to be a sub if it isn’t yet.</td>\n",
       "    </tr>\n",
       "    <tr>\n",
       "      <th>5</th>\n",
       "      <td>Probably the wrong sub, but I'll try to get so...</td>\n",
       "      <td>@internetofshit is a great account</td>\n",
       "    </tr>\n",
       "    <tr>\n",
       "      <th>6</th>\n",
       "      <td>Probably the wrong sub, but I'll try to get so...</td>\n",
       "      <td>Doctorow's Radicalized book becoming a reality...</td>\n",
       "    </tr>\n",
       "    <tr>\n",
       "      <th>7</th>\n",
       "      <td>Probably the wrong sub, but I'll try to get so...</td>\n",
       "      <td>If you can't stand the IO(hea)T.\\n\\n\\#getoutof...</td>\n",
       "    </tr>\n",
       "    <tr>\n",
       "      <th>8</th>\n",
       "      <td>Probably the wrong sub, but I'll try to get so...</td>\n",
       "      <td>Can you refuse. I would. It's bullshit.</td>\n",
       "    </tr>\n",
       "    <tr>\n",
       "      <th>9</th>\n",
       "      <td>Probably the wrong sub, but I'll try to get so...</td>\n",
       "      <td>How many pages 😅</td>\n",
       "    </tr>\n",
       "  </tbody>\n",
       "</table>\n",
       "</div>"
      ],
      "text/plain": [
       "                                               Title  \\\n",
       "0  Probably the wrong sub, but I'll try to get so...   \n",
       "1  Probably the wrong sub, but I'll try to get so...   \n",
       "2  Probably the wrong sub, but I'll try to get so...   \n",
       "3  Probably the wrong sub, but I'll try to get so...   \n",
       "4  Probably the wrong sub, but I'll try to get so...   \n",
       "5  Probably the wrong sub, but I'll try to get so...   \n",
       "6  Probably the wrong sub, but I'll try to get so...   \n",
       "7  Probably the wrong sub, but I'll try to get so...   \n",
       "8  Probably the wrong sub, but I'll try to get so...   \n",
       "9  Probably the wrong sub, but I'll try to get so...   \n",
       "\n",
       "                                            Comments  \n",
       "0   How long until ads start showing up on your s...  \n",
       "1  Imagine the Razer toaster's terms or conditions 😅  \n",
       "2               Have your upvote and get out of here  \n",
       "3  This exactly the right sub. The IoT is everywh...  \n",
       "4        That def needs to be a sub if it isn’t yet.  \n",
       "5                 @internetofshit is a great account  \n",
       "6  Doctorow's Radicalized book becoming a reality...  \n",
       "7  If you can't stand the IO(hea)T.\\n\\n\\#getoutof...  \n",
       "8            Can you refuse. I would. It's bullshit.  \n",
       "9                                   How many pages 😅  "
      ]
     },
     "execution_count": 6,
     "metadata": {},
     "output_type": "execute_result"
    }
   ],
   "source": [
    "corpus = pd.read_csv(\"corpus.csv\")"
   ]
  },
  {
   "cell_type": "code",
   "execution_count": 7,
   "metadata": {},
   "outputs": [
    {
     "data": {
      "text/plain": [
       "(260, 2)"
      ]
     },
     "execution_count": 7,
     "metadata": {},
     "output_type": "execute_result"
    }
   ],
   "source": [
    "corpus.shape"
   ]
  },
  {
   "cell_type": "code",
   "execution_count": null,
   "metadata": {},
   "outputs": [],
   "source": []
  }
 ],
 "metadata": {
  "kernelspec": {
   "display_name": "Python 3",
   "language": "python",
   "name": "python3"
  },
  "language_info": {
   "codemirror_mode": {
    "name": "ipython",
    "version": 3
   },
   "file_extension": ".py",
   "mimetype": "text/x-python",
   "name": "python",
   "nbconvert_exporter": "python",
   "pygments_lexer": "ipython3",
   "version": "3.7.6"
  }
 },
 "nbformat": 4,
 "nbformat_minor": 4
}
